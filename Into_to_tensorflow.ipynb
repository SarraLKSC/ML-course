{
  "nbformat": 4,
  "nbformat_minor": 0,
  "metadata": {
    "colab": {
      "name": "Into_to_tensorflow.ipynb",
      "provenance": [],
      "authorship_tag": "ABX9TyNm+xHYBVaf7WiZqgWMNJ8d",
      "include_colab_link": true
    },
    "kernelspec": {
      "name": "python3",
      "display_name": "Python 3"
    },
    "accelerator": "GPU"
  },
  "cells": [
    {
      "cell_type": "markdown",
      "metadata": {
        "id": "view-in-github",
        "colab_type": "text"
      },
      "source": [
        "<a href=\"https://colab.research.google.com/github/SarraLKSC/ML-course/blob/master/Into_to_tensorflow.ipynb\" target=\"_parent\"><img src=\"https://colab.research.google.com/assets/colab-badge.svg\" alt=\"Open In Colab\"/></a>"
      ]
    },
    {
      "cell_type": "markdown",
      "metadata": {
        "id": "58Myd3npyme8",
        "colab_type": "text"
      },
      "source": [
        "**Read me** \n",
        "\n",
        "\n",
        "\n",
        "\n",
        "This notebook is my recreation of Udacity Intro to Tensoflow for Deep Learning, Lesson 2 Chapter 3 exercice "
      ]
    },
    {
      "cell_type": "markdown",
      "metadata": {
        "id": "tNDdg6oJzNwv",
        "colab_type": "text"
      },
      "source": [
        "The goal of the exercice is to create a model that transforms Clesius values into Fahrenheits values without explicitely giving the formula of course ."
      ]
    },
    {
      "cell_type": "code",
      "metadata": {
        "id": "rwM97eHhXvk0",
        "colab_type": "code",
        "colab": {
          "base_uri": "https://localhost:8080/",
          "height": 34
        },
        "outputId": "b151ec7e-b9df-49c5-87f7-24cf8acd8286"
      },
      "source": [
        "try:\n",
        "  # Use the %tensorflow_version magic if in colab.\n",
        "  %tensorflow_version 2.x\n",
        "except Exception:\n",
        "  pass\n",
        "\n",
        "import tensorflow as tf"
      ],
      "execution_count": 1,
      "outputs": [
        {
          "output_type": "stream",
          "text": [
            "TensorFlow 2.x selected.\n"
          ],
          "name": "stdout"
        }
      ]
    },
    {
      "cell_type": "code",
      "metadata": {
        "id": "la8IjOs2PgpZ",
        "colab_type": "code",
        "colab": {}
      },
      "source": [
        "import numpy as np\n",
        "import matplotlib as plt\n"
      ],
      "execution_count": 0,
      "outputs": []
    },
    {
      "cell_type": "code",
      "metadata": {
        "id": "con5ohTJXzIu",
        "colab_type": "code",
        "colab": {
          "base_uri": "https://localhost:8080/",
          "height": 170
        },
        "outputId": "ee258639-999a-4c0e-8af9-d9132cb2aa0b"
      },
      "source": [
        "celsius=([0,13,28,62,18,41,39])\n",
        "fahrenheit=([32,54.4,82.4,143.6,64.4,105.8,102.2])\n",
        "print(\"Celsius inputs:{}\".format(celsius))\n",
        "print(\"Fahrenheit outputs:{}\".format(fahrenheit))\n",
        "\n",
        "for i,c in enumerate (celsius):\n",
        "  print(\"{} °C = {} °F\".format(c,fahrenheit[i]))"
      ],
      "execution_count": 3,
      "outputs": [
        {
          "output_type": "stream",
          "text": [
            "Celsius inputs:[0, 13, 28, 62, 18, 41, 39]\n",
            "Fahrenheit outputs:[32, 54.4, 82.4, 143.6, 64.4, 105.8, 102.2]\n",
            "0 °C = 32 °F\n",
            "13 °C = 54.4 °F\n",
            "28 °C = 82.4 °F\n",
            "62 °C = 143.6 °F\n",
            "18 °C = 64.4 °F\n",
            "41 °C = 105.8 °F\n",
            "39 °C = 102.2 °F\n"
          ],
          "name": "stdout"
        }
      ]
    },
    {
      "cell_type": "code",
      "metadata": {
        "id": "KdbPqcOQZ1n3",
        "colab_type": "code",
        "colab": {}
      },
      "source": [
        "l0=tf.keras.layers.Dense(units=1,input_shape=[1])"
      ],
      "execution_count": 0,
      "outputs": []
    },
    {
      "cell_type": "code",
      "metadata": {
        "id": "5Xj-QmZ6avc1",
        "colab_type": "code",
        "colab": {}
      },
      "source": [
        "module=tf.keras.Sequential([l0])"
      ],
      "execution_count": 0,
      "outputs": []
    },
    {
      "cell_type": "code",
      "metadata": {
        "id": "XVYxy4DuoA27",
        "colab_type": "code",
        "colab": {}
      },
      "source": [
        "module.compile(loss='mean_squared_error',optimizer=tf.keras.optimizers.Adam(0.1))"
      ],
      "execution_count": 0,
      "outputs": []
    },
    {
      "cell_type": "code",
      "metadata": {
        "id": "JeLRY4BnoVT1",
        "colab_type": "code",
        "colab": {
          "base_uri": "https://localhost:8080/",
          "height": 34
        },
        "outputId": "a9c7a0b3-0b63-4e40-a3ea-252e327c8cc3"
      },
      "source": [
        "history=module.fit(celsius,fahrenheit,epochs=800,verbose=False)\n",
        "print(\"training complete\")"
      ],
      "execution_count": 16,
      "outputs": [
        {
          "output_type": "stream",
          "text": [
            "training complete\n"
          ],
          "name": "stdout"
        }
      ]
    },
    {
      "cell_type": "code",
      "metadata": {
        "id": "LCMTi6VVqHHl",
        "colab_type": "code",
        "colab": {
          "base_uri": "https://localhost:8080/",
          "height": 34
        },
        "outputId": "e8168916-dfca-4596-e56d-976da37483c8"
      },
      "source": [
        "print(module.predict([15]))"
      ],
      "execution_count": 17,
      "outputs": [
        {
          "output_type": "stream",
          "text": [
            "[[58.43042]]\n"
          ],
          "name": "stdout"
        }
      ]
    },
    {
      "cell_type": "code",
      "metadata": {
        "id": "MrfDauw5sQ6q",
        "colab_type": "code",
        "colab": {
          "base_uri": "https://localhost:8080/",
          "height": 34
        },
        "outputId": "2a5bab2e-d60b-45f4-dbb1-766cda3f6404"
      },
      "source": [
        "print(\"used weights: {}\".format(l0.get_weights()))"
      ],
      "execution_count": 20,
      "outputs": [
        {
          "output_type": "stream",
          "text": [
            "used weights: [array([[1.8192962]], dtype=float32), array([31.140978], dtype=float32)]\n"
          ],
          "name": "stdout"
        }
      ]
    },
    {
      "cell_type": "code",
      "metadata": {
        "id": "pOqzsqF8qrSh",
        "colab_type": "code",
        "colab": {
          "base_uri": "https://localhost:8080/",
          "height": 34
        },
        "outputId": "0fba825b-fbd5-4a50-f2f9-dc9cd7d8cd70"
      },
      "source": [
        "layer1=tf.keras.layers.Dense(units=4,input_shape=[1])\n",
        "layer2=tf.keras.layers.Dense(units=4)\n",
        "layer3=tf.keras.layers.Dense(units=1)\n",
        "model=tf.keras.Sequential([layer1,layer2,layer3])\n",
        "model.compile(loss='mean_squared_error', optimizer=tf.keras.optimizers.Adam(0.1))\n",
        "histor=model.fit(celsius,fahrenheit,epochs=500,verbose=False)\n",
        "print(model.predict([15]))"
      ],
      "execution_count": 18,
      "outputs": [
        {
          "output_type": "stream",
          "text": [
            "[[58.77268]]\n"
          ],
          "name": "stdout"
        }
      ]
    }
  ]
}