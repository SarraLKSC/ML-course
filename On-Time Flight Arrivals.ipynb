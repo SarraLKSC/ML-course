{
  "cells": [
    {
      "metadata": {},
      "cell_type": "markdown",
      "source": "# Importer les data"
    },
    {
      "metadata": {
        "trusted": true
      },
      "cell_type": "code",
      "source": "#Importer les données\n!curl https://topcs.blob.core.windows.net/public/FlightData.csv -o flightdata.csv",
      "execution_count": 49,
      "outputs": [
        {
          "output_type": "stream",
          "text": "  % Total    % Received % Xferd  Average Speed   Time    Time     Time  Current\n                                 Dload  Upload   Total   Spent    Left  Speed\n100 1552k  100 1552k    0     0  3276k      0 --:--:-- --:--:-- --:--:-- 3276k\n",
          "name": "stdout"
        }
      ]
    },
    {
      "metadata": {
        "trusted": true
      },
      "cell_type": "code",
      "source": "#introduire les données dans un DataFrame Pandas\nimport pandas as pd\ndf= pd.read_csv('flightdata.csv')\ndf.head(5)",
      "execution_count": 50,
      "outputs": [
        {
          "output_type": "execute_result",
          "execution_count": 50,
          "data": {
            "text/html": "<div>\n<style scoped>\n    .dataframe tbody tr th:only-of-type {\n        vertical-align: middle;\n    }\n\n    .dataframe tbody tr th {\n        vertical-align: top;\n    }\n\n    .dataframe thead th {\n        text-align: right;\n    }\n</style>\n<table border=\"1\" class=\"dataframe\">\n  <thead>\n    <tr style=\"text-align: right;\">\n      <th></th>\n      <th>YEAR</th>\n      <th>QUARTER</th>\n      <th>MONTH</th>\n      <th>DAY_OF_MONTH</th>\n      <th>DAY_OF_WEEK</th>\n      <th>UNIQUE_CARRIER</th>\n      <th>TAIL_NUM</th>\n      <th>FL_NUM</th>\n      <th>ORIGIN_AIRPORT_ID</th>\n      <th>ORIGIN</th>\n      <th>...</th>\n      <th>CRS_ARR_TIME</th>\n      <th>ARR_TIME</th>\n      <th>ARR_DELAY</th>\n      <th>ARR_DEL15</th>\n      <th>CANCELLED</th>\n      <th>DIVERTED</th>\n      <th>CRS_ELAPSED_TIME</th>\n      <th>ACTUAL_ELAPSED_TIME</th>\n      <th>DISTANCE</th>\n      <th>Unnamed: 25</th>\n    </tr>\n  </thead>\n  <tbody>\n    <tr>\n      <th>0</th>\n      <td>2016</td>\n      <td>1</td>\n      <td>1</td>\n      <td>1</td>\n      <td>5</td>\n      <td>DL</td>\n      <td>N836DN</td>\n      <td>1399</td>\n      <td>10397</td>\n      <td>ATL</td>\n      <td>...</td>\n      <td>2143</td>\n      <td>2102.0</td>\n      <td>-41.0</td>\n      <td>0.0</td>\n      <td>0.0</td>\n      <td>0.0</td>\n      <td>338.0</td>\n      <td>295.0</td>\n      <td>2182.0</td>\n      <td>NaN</td>\n    </tr>\n    <tr>\n      <th>1</th>\n      <td>2016</td>\n      <td>1</td>\n      <td>1</td>\n      <td>1</td>\n      <td>5</td>\n      <td>DL</td>\n      <td>N964DN</td>\n      <td>1476</td>\n      <td>11433</td>\n      <td>DTW</td>\n      <td>...</td>\n      <td>1435</td>\n      <td>1439.0</td>\n      <td>4.0</td>\n      <td>0.0</td>\n      <td>0.0</td>\n      <td>0.0</td>\n      <td>110.0</td>\n      <td>115.0</td>\n      <td>528.0</td>\n      <td>NaN</td>\n    </tr>\n    <tr>\n      <th>2</th>\n      <td>2016</td>\n      <td>1</td>\n      <td>1</td>\n      <td>1</td>\n      <td>5</td>\n      <td>DL</td>\n      <td>N813DN</td>\n      <td>1597</td>\n      <td>10397</td>\n      <td>ATL</td>\n      <td>...</td>\n      <td>1215</td>\n      <td>1142.0</td>\n      <td>-33.0</td>\n      <td>0.0</td>\n      <td>0.0</td>\n      <td>0.0</td>\n      <td>335.0</td>\n      <td>300.0</td>\n      <td>2182.0</td>\n      <td>NaN</td>\n    </tr>\n    <tr>\n      <th>3</th>\n      <td>2016</td>\n      <td>1</td>\n      <td>1</td>\n      <td>1</td>\n      <td>5</td>\n      <td>DL</td>\n      <td>N587NW</td>\n      <td>1768</td>\n      <td>14747</td>\n      <td>SEA</td>\n      <td>...</td>\n      <td>1335</td>\n      <td>1345.0</td>\n      <td>10.0</td>\n      <td>0.0</td>\n      <td>0.0</td>\n      <td>0.0</td>\n      <td>196.0</td>\n      <td>205.0</td>\n      <td>1399.0</td>\n      <td>NaN</td>\n    </tr>\n    <tr>\n      <th>4</th>\n      <td>2016</td>\n      <td>1</td>\n      <td>1</td>\n      <td>1</td>\n      <td>5</td>\n      <td>DL</td>\n      <td>N836DN</td>\n      <td>1823</td>\n      <td>14747</td>\n      <td>SEA</td>\n      <td>...</td>\n      <td>607</td>\n      <td>615.0</td>\n      <td>8.0</td>\n      <td>0.0</td>\n      <td>0.0</td>\n      <td>0.0</td>\n      <td>247.0</td>\n      <td>259.0</td>\n      <td>1927.0</td>\n      <td>NaN</td>\n    </tr>\n  </tbody>\n</table>\n<p>5 rows × 26 columns</p>\n</div>",
            "text/plain": "   YEAR  QUARTER  MONTH  DAY_OF_MONTH  DAY_OF_WEEK UNIQUE_CARRIER TAIL_NUM  \\\n0  2016        1      1             1            5             DL   N836DN   \n1  2016        1      1             1            5             DL   N964DN   \n2  2016        1      1             1            5             DL   N813DN   \n3  2016        1      1             1            5             DL   N587NW   \n4  2016        1      1             1            5             DL   N836DN   \n\n   FL_NUM  ORIGIN_AIRPORT_ID ORIGIN     ...       CRS_ARR_TIME ARR_TIME  \\\n0    1399              10397    ATL     ...               2143   2102.0   \n1    1476              11433    DTW     ...               1435   1439.0   \n2    1597              10397    ATL     ...               1215   1142.0   \n3    1768              14747    SEA     ...               1335   1345.0   \n4    1823              14747    SEA     ...                607    615.0   \n\n   ARR_DELAY  ARR_DEL15  CANCELLED  DIVERTED  CRS_ELAPSED_TIME  \\\n0      -41.0        0.0        0.0       0.0             338.0   \n1        4.0        0.0        0.0       0.0             110.0   \n2      -33.0        0.0        0.0       0.0             335.0   \n3       10.0        0.0        0.0       0.0             196.0   \n4        8.0        0.0        0.0       0.0             247.0   \n\n   ACTUAL_ELAPSED_TIME  DISTANCE  Unnamed: 25  \n0                295.0    2182.0          NaN  \n1                115.0     528.0          NaN  \n2                300.0    2182.0          NaN  \n3                205.0    1399.0          NaN  \n4                259.0    1927.0          NaN  \n\n[5 rows x 26 columns]"
          },
          "metadata": {}
        }
      ]
    },
    {
      "metadata": {
        "trusted": true
      },
      "cell_type": "code",
      "source": "df.shape #donne les dimensions du df",
      "execution_count": 51,
      "outputs": [
        {
          "output_type": "execute_result",
          "execution_count": 51,
          "data": {
            "text/plain": "(11231, 26)"
          },
          "metadata": {}
        }
      ]
    },
    {
      "metadata": {
        "trusted": true
      },
      "cell_type": "code",
      "source": "df.isnull().values.any() #vérifie si le df contient des valeurs nulls",
      "execution_count": 52,
      "outputs": [
        {
          "output_type": "execute_result",
          "execution_count": 52,
          "data": {
            "text/plain": "True"
          },
          "metadata": {}
        }
      ]
    },
    {
      "metadata": {
        "trusted": true
      },
      "cell_type": "code",
      "source": "df.isnull().sum()  #permet de localiser les valeurs nuls",
      "execution_count": 53,
      "outputs": [
        {
          "output_type": "execute_result",
          "execution_count": 53,
          "data": {
            "text/plain": "YEAR                       0\nQUARTER                    0\nMONTH                      0\nDAY_OF_MONTH               0\nDAY_OF_WEEK                0\nUNIQUE_CARRIER             0\nTAIL_NUM                   0\nFL_NUM                     0\nORIGIN_AIRPORT_ID          0\nORIGIN                     0\nDEST_AIRPORT_ID            0\nDEST                       0\nCRS_DEP_TIME               0\nDEP_TIME                 107\nDEP_DELAY                107\nDEP_DEL15                107\nCRS_ARR_TIME               0\nARR_TIME                 115\nARR_DELAY                188\nARR_DEL15                188\nCANCELLED                  0\nDIVERTED                   0\nCRS_ELAPSED_TIME           0\nACTUAL_ELAPSED_TIME      188\nDISTANCE                   0\nUnnamed: 25            11231\ndtype: int64"
          },
          "metadata": {}
        }
      ]
    },
    {
      "metadata": {},
      "cell_type": "markdown",
      "source": "# Nettoyer les data"
    },
    {
      "metadata": {
        "trusted": true
      },
      "cell_type": "code",
      "source": "df=df.drop('Unnamed: 25',axis=1) #supprimer les colonne \ndf.isnull().sum()",
      "execution_count": 54,
      "outputs": [
        {
          "output_type": "execute_result",
          "execution_count": 54,
          "data": {
            "text/plain": "YEAR                     0\nQUARTER                  0\nMONTH                    0\nDAY_OF_MONTH             0\nDAY_OF_WEEK              0\nUNIQUE_CARRIER           0\nTAIL_NUM                 0\nFL_NUM                   0\nORIGIN_AIRPORT_ID        0\nORIGIN                   0\nDEST_AIRPORT_ID          0\nDEST                     0\nCRS_DEP_TIME             0\nDEP_TIME               107\nDEP_DELAY              107\nDEP_DEL15              107\nCRS_ARR_TIME             0\nARR_TIME               115\nARR_DELAY              188\nARR_DEL15              188\nCANCELLED                0\nDIVERTED                 0\nCRS_ELAPSED_TIME         0\nACTUAL_ELAPSED_TIME    188\nDISTANCE                 0\ndtype: int64"
          },
          "metadata": {}
        }
      ]
    },
    {
      "metadata": {
        "trusted": true
      },
      "cell_type": "code",
      "source": "df = df[[\"MONTH\", \"DAY_OF_MONTH\", \"DAY_OF_WEEK\", \"ORIGIN\", \"DEST\", \"CRS_DEP_TIME\", \"ARR_DEL15\"]] #restructuer mon df aka supprimer toutes les colonnes à part celles citées\ndf.isnull().sum()",
      "execution_count": 55,
      "outputs": [
        {
          "output_type": "execute_result",
          "execution_count": 55,
          "data": {
            "text/plain": "MONTH             0\nDAY_OF_MONTH      0\nDAY_OF_WEEK       0\nORIGIN            0\nDEST              0\nCRS_DEP_TIME      0\nARR_DEL15       188\ndtype: int64"
          },
          "metadata": {}
        }
      ]
    },
    {
      "metadata": {
        "trusted": true
      },
      "cell_type": "code",
      "source": "df[df.isnull().values.any(axis=1)].head #montrer les lignes contenant des cellules vides",
      "execution_count": 56,
      "outputs": [
        {
          "output_type": "execute_result",
          "execution_count": 56,
          "data": {
            "text/plain": "<bound method NDFrame.head of        MONTH  DAY_OF_MONTH  DAY_OF_WEEK ORIGIN DEST  CRS_DEP_TIME  ARR_DEL15\n177        1             9            6    MSP  SEA           701        NaN\n179        1            10            7    MSP  DTW          1348        NaN\n184        1            10            7    MSP  DTW           625        NaN\n210        1            10            7    DTW  MSP          1200        NaN\n478        1            22            5    SEA  JFK          2305        NaN\n481        1            22            5    ATL  JFK          1745        NaN\n491        1            22            5    MSP  JFK          1755        NaN\n499        1            23            6    JFK  ATL          1325        NaN\n500        1            23            6    JFK  ATL          1540        NaN\n501        1            23            6    JFK  SEA           740        NaN\n502        1            23            6    JFK  ATL           610        NaN\n503        1            23            6    JFK  ATL           805        NaN\n504        1            23            6    JFK  ATL          1715        NaN\n505        1            23            6    JFK  SEA          1825        NaN\n506        1            23            6    ATL  JFK          1205        NaN\n507        1            23            6    JFK  SEA          1615        NaN\n511        1            23            6    ATL  JFK          1515        NaN\n517        1            23            6    SEA  JFK          1150        NaN\n518        1            23            6    SEA  JFK          2250        NaN\n521        1            23            6    ATL  JFK          1745        NaN\n523        1            23            6    JFK  ATL          1930        NaN\n526        1            23            6    ATL  JFK           810        NaN\n529        1            24            7    ATL  JFK           810        NaN\n541        1            22            5    ATL  JFK          2050        NaN\n545        1            22            5    DTW  JFK          2000        NaN\n553        1            23            6    SEA  JFK           700        NaN\n556        1            23            6    JFK  DTW          1900        NaN\n559        1            24            7    JFK  ATL          1715        NaN\n560        1            24            7    JFK  MSP          1129        NaN\n561        1            24            7    JFK  ATL           820        NaN\n...      ...           ...          ...    ...  ...           ...        ...\n6823       8            11            4    ATL  DTW           710        NaN\n6863       8            14            7    ATL  JFK          2115        NaN\n6913       8            14            7    SEA  JFK          1320        NaN\n6942       8            14            7    JFK  ATL          1744        NaN\n6966       8            14            7    JFK  MSP          1445        NaN\n6975       8            15            1    MSP  JFK          1010        NaN\n7112       8            21            7    DTW  SEA          1155        NaN\n7165       8            21            7    ATL  SEA          1414        NaN\n7539       9             1            4    ATL  JFK          1515        NaN\n7540       9             1            4    JFK  ATL          1520        NaN\n7550       9             1            4    SEA  ATL          1215        NaN\n8056       9            18            7    JFK  ATL          1720        NaN\n8123       9            21            3    JFK  MSP          1840        NaN\n8127       9            21            3    JFK  MSP          1555        NaN\n8136       9            21            3    ATL  MSP          1945        NaN\n8139       9            21            3    DTW  MSP          1958        NaN\n8233       9            21            3    SEA  MSP          1516        NaN\n8443       9            30            5    MSP  ATL          1010        NaN\n9250      10            31            1    JFK  MSP           810        NaN\n9807      11            18            5    SEA  MSP          1133        NaN\n9836      11            18            5    DTW  MSP          1555        NaN\n10181     11            30            3    MSP  ATL          1114        NaN\n10557     12             8            4    ATL  DTW           900        NaN\n10618     12            11            7    MSP  DTW          1155        NaN\n10619     12            11            7    DTW  SEA          1545        NaN\n10625     12            12            1    SEA  DTW           935        NaN\n10746     12            16            5    JFK  MSP          1600        NaN\n10756     12            17            6    JFK  ATL          1925        NaN\n10785     12            18            7    ATL  JFK          1520        NaN\n10786     12            18            7    JFK  ATL          1529        NaN\n\n[188 rows x 7 columns]>"
          },
          "metadata": {}
        }
      ]
    },
    {
      "metadata": {
        "trusted": true,
        "scrolled": true
      },
      "cell_type": "code",
      "source": "df=df.fillna({'ARR_DEL15':1}) # remplire les cases vides de APR_DEL15 par 1\ndf.iloc[175:185]  #afficher les lignes entre 175 et 185",
      "execution_count": 57,
      "outputs": [
        {
          "output_type": "execute_result",
          "execution_count": 57,
          "data": {
            "text/html": "<div>\n<style scoped>\n    .dataframe tbody tr th:only-of-type {\n        vertical-align: middle;\n    }\n\n    .dataframe tbody tr th {\n        vertical-align: top;\n    }\n\n    .dataframe thead th {\n        text-align: right;\n    }\n</style>\n<table border=\"1\" class=\"dataframe\">\n  <thead>\n    <tr style=\"text-align: right;\">\n      <th></th>\n      <th>MONTH</th>\n      <th>DAY_OF_MONTH</th>\n      <th>DAY_OF_WEEK</th>\n      <th>ORIGIN</th>\n      <th>DEST</th>\n      <th>CRS_DEP_TIME</th>\n      <th>ARR_DEL15</th>\n    </tr>\n  </thead>\n  <tbody>\n    <tr>\n      <th>175</th>\n      <td>1</td>\n      <td>9</td>\n      <td>6</td>\n      <td>DTW</td>\n      <td>ATL</td>\n      <td>1205</td>\n      <td>1.0</td>\n    </tr>\n    <tr>\n      <th>176</th>\n      <td>1</td>\n      <td>9</td>\n      <td>6</td>\n      <td>JFK</td>\n      <td>DTW</td>\n      <td>1845</td>\n      <td>0.0</td>\n    </tr>\n    <tr>\n      <th>177</th>\n      <td>1</td>\n      <td>9</td>\n      <td>6</td>\n      <td>MSP</td>\n      <td>SEA</td>\n      <td>701</td>\n      <td>1.0</td>\n    </tr>\n    <tr>\n      <th>178</th>\n      <td>1</td>\n      <td>9</td>\n      <td>6</td>\n      <td>DTW</td>\n      <td>JFK</td>\n      <td>1527</td>\n      <td>0.0</td>\n    </tr>\n    <tr>\n      <th>179</th>\n      <td>1</td>\n      <td>10</td>\n      <td>7</td>\n      <td>MSP</td>\n      <td>DTW</td>\n      <td>1348</td>\n      <td>1.0</td>\n    </tr>\n    <tr>\n      <th>180</th>\n      <td>1</td>\n      <td>10</td>\n      <td>7</td>\n      <td>DTW</td>\n      <td>MSP</td>\n      <td>1540</td>\n      <td>0.0</td>\n    </tr>\n    <tr>\n      <th>181</th>\n      <td>1</td>\n      <td>10</td>\n      <td>7</td>\n      <td>JFK</td>\n      <td>ATL</td>\n      <td>1325</td>\n      <td>0.0</td>\n    </tr>\n    <tr>\n      <th>182</th>\n      <td>1</td>\n      <td>10</td>\n      <td>7</td>\n      <td>JFK</td>\n      <td>ATL</td>\n      <td>610</td>\n      <td>0.0</td>\n    </tr>\n    <tr>\n      <th>183</th>\n      <td>1</td>\n      <td>10</td>\n      <td>7</td>\n      <td>JFK</td>\n      <td>SEA</td>\n      <td>1615</td>\n      <td>0.0</td>\n    </tr>\n    <tr>\n      <th>184</th>\n      <td>1</td>\n      <td>10</td>\n      <td>7</td>\n      <td>MSP</td>\n      <td>DTW</td>\n      <td>625</td>\n      <td>1.0</td>\n    </tr>\n  </tbody>\n</table>\n</div>",
            "text/plain": "     MONTH  DAY_OF_MONTH  DAY_OF_WEEK ORIGIN DEST  CRS_DEP_TIME  ARR_DEL15\n175      1             9            6    DTW  ATL          1205        1.0\n176      1             9            6    JFK  DTW          1845        0.0\n177      1             9            6    MSP  SEA           701        1.0\n178      1             9            6    DTW  JFK          1527        0.0\n179      1            10            7    MSP  DTW          1348        1.0\n180      1            10            7    DTW  MSP          1540        0.0\n181      1            10            7    JFK  ATL          1325        0.0\n182      1            10            7    JFK  ATL           610        0.0\n183      1            10            7    JFK  SEA          1615        0.0\n184      1            10            7    MSP  DTW           625        1.0"
          },
          "metadata": {}
        }
      ]
    },
    {
      "metadata": {},
      "cell_type": "markdown",
      "source": "# Préparer les données pour le modèle ML"
    },
    {
      "metadata": {
        "trusted": true
      },
      "cell_type": "code",
      "source": "import math\n#normaliser les données\nfor index, row in df.iterrows():\n    df.loc[index, 'CRS_DEP_TIME'] = math.floor(row['CRS_DEP_TIME'] / 100) #diviser et arrondire pour affiner l'intervalle\ndf.head()",
      "execution_count": 58,
      "outputs": [
        {
          "output_type": "execute_result",
          "execution_count": 58,
          "data": {
            "text/html": "<div>\n<style scoped>\n    .dataframe tbody tr th:only-of-type {\n        vertical-align: middle;\n    }\n\n    .dataframe tbody tr th {\n        vertical-align: top;\n    }\n\n    .dataframe thead th {\n        text-align: right;\n    }\n</style>\n<table border=\"1\" class=\"dataframe\">\n  <thead>\n    <tr style=\"text-align: right;\">\n      <th></th>\n      <th>MONTH</th>\n      <th>DAY_OF_MONTH</th>\n      <th>DAY_OF_WEEK</th>\n      <th>ORIGIN</th>\n      <th>DEST</th>\n      <th>CRS_DEP_TIME</th>\n      <th>ARR_DEL15</th>\n    </tr>\n  </thead>\n  <tbody>\n    <tr>\n      <th>0</th>\n      <td>1</td>\n      <td>1</td>\n      <td>5</td>\n      <td>ATL</td>\n      <td>SEA</td>\n      <td>19</td>\n      <td>0.0</td>\n    </tr>\n    <tr>\n      <th>1</th>\n      <td>1</td>\n      <td>1</td>\n      <td>5</td>\n      <td>DTW</td>\n      <td>MSP</td>\n      <td>13</td>\n      <td>0.0</td>\n    </tr>\n    <tr>\n      <th>2</th>\n      <td>1</td>\n      <td>1</td>\n      <td>5</td>\n      <td>ATL</td>\n      <td>SEA</td>\n      <td>9</td>\n      <td>0.0</td>\n    </tr>\n    <tr>\n      <th>3</th>\n      <td>1</td>\n      <td>1</td>\n      <td>5</td>\n      <td>SEA</td>\n      <td>MSP</td>\n      <td>8</td>\n      <td>0.0</td>\n    </tr>\n    <tr>\n      <th>4</th>\n      <td>1</td>\n      <td>1</td>\n      <td>5</td>\n      <td>SEA</td>\n      <td>DTW</td>\n      <td>23</td>\n      <td>0.0</td>\n    </tr>\n  </tbody>\n</table>\n</div>",
            "text/plain": "   MONTH  DAY_OF_MONTH  DAY_OF_WEEK ORIGIN DEST  CRS_DEP_TIME  ARR_DEL15\n0      1             1            5    ATL  SEA            19        0.0\n1      1             1            5    DTW  MSP            13        0.0\n2      1             1            5    ATL  SEA             9        0.0\n3      1             1            5    SEA  MSP             8        0.0\n4      1             1            5    SEA  DTW            23        0.0"
          },
          "metadata": {}
        }
      ]
    },
    {
      "metadata": {
        "trusted": true,
        "scrolled": true
      },
      "cell_type": "code",
      "source": "df=pd.get_dummies(df, columns=['ORIGIN','DEST'])  #subdiviser les colonnes ORIGIN et DEST \ndf.head\n",
      "execution_count": 59,
      "outputs": [
        {
          "output_type": "execute_result",
          "execution_count": 59,
          "data": {
            "text/plain": "<bound method NDFrame.head of        MONTH  DAY_OF_MONTH  DAY_OF_WEEK  CRS_DEP_TIME  ARR_DEL15  ORIGIN_ATL  \\\n0          1             1            5            19        0.0           1   \n1          1             1            5            13        0.0           0   \n2          1             1            5             9        0.0           1   \n3          1             1            5             8        0.0           0   \n4          1             1            5            23        0.0           0   \n5          1             1            5            11        0.0           0   \n6          1             2            6            17        0.0           1   \n7          1             2            6            17        0.0           0   \n8          1             2            6            11        0.0           0   \n9          1             2            6            14        0.0           0   \n10         1             2            6             8        0.0           1   \n11         1             2            6            13        0.0           1   \n12         1             2            6             7        0.0           1   \n13         1             2            6             8        0.0           0   \n14         1             2            6            16        0.0           0   \n15         1             3            7            13        0.0           0   \n16         1             3            7            13        0.0           0   \n17         1             2            6            17        0.0           0   \n18         1             2            6             7        0.0           0   \n19         1             2            6             7        0.0           1   \n20         1             2            6             8        0.0           1   \n21         1             3            7            14        0.0           1   \n22         1             3            7             8        0.0           0   \n23         1             3            7            15        0.0           0   \n24         1             3            7            13        0.0           1   \n25         1             3            7             7        0.0           0   \n26         1             3            7            14        0.0           0   \n27         1             3            7            20        0.0           0   \n28         1             3            7             6        0.0           0   \n29         1             3            7            23        0.0           0   \n...      ...           ...          ...           ...        ...         ...   \n11201     12             9            5             7        0.0           1   \n11202     12             9            5            17        0.0           0   \n11203     12             9            5            11        1.0           0   \n11204     12            15            4            12        0.0           0   \n11205     12            15            4            19        1.0           1   \n11206     12            15            4            16        0.0           1   \n11207     12            16            5            19        1.0           1   \n11208     12            16            5            10        0.0           0   \n11209     12            16            5            15        1.0           0   \n11210     12            16            5            16        0.0           1   \n11211     12            16            5            20        1.0           0   \n11212     12            16            5             7        0.0           0   \n11213     12            16            5            16        0.0           0   \n11214     12            16            5             7        0.0           0   \n11215     12            28            3             0        0.0           0   \n11216     12            28            3             6        0.0           0   \n11217     12            28            3             9        0.0           1   \n11218     12            28            3            16        1.0           0   \n11219     12            29            4             8        0.0           0   \n11220     12            29            4            13        0.0           0   \n11221     12            29            4            13        0.0           0   \n11222     12            29            4            14        0.0           0   \n11223     12            30            5            13        0.0           0   \n11224     12            30            5            13        1.0           0   \n11225     12            30            5            17        0.0           0   \n11226     12            30            5            10        0.0           0   \n11227     12            30            5            15        0.0           0   \n11228     12            30            5            19        0.0           0   \n11229     12            30            5            15        0.0           1   \n11230     12            30            5             7        0.0           1   \n\n       ORIGIN_DTW  ORIGIN_JFK  ORIGIN_MSP  ORIGIN_SEA  DEST_ATL  DEST_DTW  \\\n0               0           0           0           0         0         0   \n1               1           0           0           0         0         0   \n2               0           0           0           0         0         0   \n3               0           0           0           1         0         0   \n4               0           0           0           1         0         1   \n5               0           0           1           0         1         0   \n6               0           0           0           0         0         0   \n7               0           0           1           0         0         0   \n8               0           0           1           0         0         0   \n9               0           0           1           0         1         0   \n10              0           0           0           0         0         0   \n11              0           0           0           0         0         0   \n12              0           0           0           0         0         0   \n13              1           0           0           0         0         0   \n14              1           0           0           0         1         0   \n15              0           0           1           0         0         1   \n16              0           1           0           0         1         0   \n17              1           0           0           0         0         0   \n18              0           0           0           1         0         0   \n19              0           0           0           0         0         1   \n20              0           0           0           0         0         0   \n21              0           0           0           0         0         1   \n22              0           0           1           0         0         1   \n23              0           0           1           0         1         0   \n24              0           0           0           0         0         1   \n25              0           0           0           1         1         0   \n26              0           0           1           0         0         0   \n27              1           0           0           0         1         0   \n28              0           0           1           0         1         0   \n29              0           0           0           1         1         0   \n...           ...         ...         ...         ...       ...       ...   \n11201           0           0           0           0         0         1   \n11202           1           0           0           0         1         0   \n11203           0           0           1           0         0         0   \n11204           0           0           0           1         1         0   \n11205           0           0           0           0         0         0   \n11206           0           0           0           0         0         1   \n11207           0           0           0           0         0         0   \n11208           0           0           1           0         0         1   \n11209           0           0           1           0         1         0   \n11210           0           0           0           0         0         0   \n11211           0           0           1           0         0         1   \n11212           0           0           0           1         0         0   \n11213           1           0           0           0         1         0   \n11214           0           0           1           0         1         0   \n11215           0           0           0           1         0         0   \n11216           0           0           1           0         1         0   \n11217           0           0           0           0         0         1   \n11218           0           1           0           0         0         0   \n11219           1           0           0           0         0         0   \n11220           0           0           1           0         0         1   \n11221           0           0           1           0         1         0   \n11222           0           0           0           1         1         0   \n11223           0           0           0           1         0         0   \n11224           1           0           0           0         0         0   \n11225           0           0           1           0         1         0   \n11226           1           0           0           0         1         0   \n11227           0           0           0           1         0         0   \n11228           1           0           0           0         0         0   \n11229           0           0           0           0         0         0   \n11230           0           0           0           0         0         1   \n\n       DEST_JFK  DEST_MSP  DEST_SEA  \n0             0         0         1  \n1             0         1         0  \n2             0         0         1  \n3             0         1         0  \n4             0         0         0  \n5             0         0         0  \n6             0         1         0  \n7             0         0         1  \n8             0         0         1  \n9             0         0         0  \n10            1         0         0  \n11            0         0         1  \n12            0         1         0  \n13            0         0         1  \n14            0         0         0  \n15            0         0         0  \n16            0         0         0  \n17            0         0         1  \n18            1         0         0  \n19            0         0         0  \n20            0         0         1  \n21            0         0         0  \n22            0         0         0  \n23            0         0         0  \n24            0         0         0  \n25            0         0         0  \n26            0         0         1  \n27            0         0         0  \n28            0         0         0  \n29            0         0         0  \n...         ...       ...       ...  \n11201         0         0         0  \n11202         0         0         0  \n11203         0         0         1  \n11204         0         0         0  \n11205         0         0         1  \n11206         0         0         0  \n11207         0         1         0  \n11208         0         0         0  \n11209         0         0         0  \n11210         0         0         1  \n11211         0         0         0  \n11212         1         0         0  \n11213         0         0         0  \n11214         0         0         0  \n11215         0         1         0  \n11216         0         0         0  \n11217         0         0         0  \n11218         0         1         0  \n11219         0         0         1  \n11220         0         0         0  \n11221         0         0         0  \n11222         0         0         0  \n11223         1         0         0  \n11224         0         1         0  \n11225         0         0         0  \n11226         0         0         0  \n11227         0         1         0  \n11228         0         0         1  \n11229         0         0         1  \n11230         0         0         0  \n\n[11231 rows x 15 columns]>"
          },
          "metadata": {}
        }
      ]
    },
    {
      "metadata": {
        "trusted": true
      },
      "cell_type": "code",
      "source": "",
      "execution_count": null,
      "outputs": []
    }
  ],
  "metadata": {
    "kernelspec": {
      "name": "python36",
      "display_name": "Python 3.6",
      "language": "python"
    },
    "language_info": {
      "mimetype": "text/x-python",
      "nbconvert_exporter": "python",
      "name": "python",
      "pygments_lexer": "ipython3",
      "version": "3.6.6",
      "file_extension": ".py",
      "codemirror_mode": {
        "version": 3,
        "name": "ipython"
      }
    }
  },
  "nbformat": 4,
  "nbformat_minor": 2
}